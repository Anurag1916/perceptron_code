{
 "cells": [
  {
   "cell_type": "code",
   "execution_count": 3,
   "id": "f2224fc3",
   "metadata": {},
   "outputs": [],
   "source": [
    "import pandas as pd\n",
    "import matplotlib.pyplot as plt\n",
    "import os\n",
    "import joblib"
   ]
  },
  {
   "cell_type": "code",
   "execution_count": 4,
   "id": "d8f002fd",
   "metadata": {},
   "outputs": [],
   "source": [
    "import numpy as np"
   ]
  },
  {
   "cell_type": "raw",
   "id": "1afacf23",
   "metadata": {},
   "source": []
  },
  {
   "cell_type": "code",
   "execution_count": 59,
   "id": "d20f708a",
   "metadata": {},
   "outputs": [],
   "source": [
    "class Perceptron:\n",
    "    def __init__(self, eta: float=None, epochs: int=None):\n",
    "        self.weights=np.random.randn(3)*1e-4\n",
    "        self.eta=eta\n",
    "        self.epochs=epochs\n",
    "    \n",
    "    def _z_outcome(self,inputs, weights):\n",
    "        return np.dot(inputs, weights)\n",
    "    \n",
    "    def activation_function(self, z):\n",
    "        return np.where(z > 0,1,0)\n",
    "    \n",
    "    def fit(self,X,y):\n",
    "        self.X=X\n",
    "        self.y=y\n",
    "        \n",
    "        X_with_bias = np.c_[self.X, -np.ones((len(self.X), 1))]\n",
    "        print(f\"X with bias: \\n{X_with_bias}\")\n",
    "        \n",
    "        for epochs in range(self.epochs):\n",
    "            \n",
    "            z = self._z_outcome(X_with_bias, self.weights)\n",
    "            y_hat = self.activation_function(z)\n",
    "            print(f\"predicted value after forward pass \\n{y_hat}\")\n",
    "            self.error = self.y - y_hat\n",
    "            print(f\"updated weights after epoch: {epochs + 1}/{self.epochs}: \\n{self.weights}\")\n",
    "            self.wights = self.weights + self.eta * np.dot(X_with_bias.T, self.error )\n",
    "            \n",
    "    def predict(self, X):\n",
    "        X_with_bias = np.c_[X,-np.ones((len(X),1))]\n",
    "        weights = self._z_outcome(X_with_bias, self.weights)\n",
    "        return self.activation_function(z)"
   ]
  },
  {
   "cell_type": "code",
   "execution_count": 60,
   "id": "31b3d959",
   "metadata": {},
   "outputs": [
    {
     "data": {
      "text/html": [
       "<div>\n",
       "<style scoped>\n",
       "    .dataframe tbody tr th:only-of-type {\n",
       "        vertical-align: middle;\n",
       "    }\n",
       "\n",
       "    .dataframe tbody tr th {\n",
       "        vertical-align: top;\n",
       "    }\n",
       "\n",
       "    .dataframe thead th {\n",
       "        text-align: right;\n",
       "    }\n",
       "</style>\n",
       "<table border=\"1\" class=\"dataframe\">\n",
       "  <thead>\n",
       "    <tr style=\"text-align: right;\">\n",
       "      <th></th>\n",
       "      <th>x1</th>\n",
       "      <th>x2</th>\n",
       "      <th>y</th>\n",
       "    </tr>\n",
       "  </thead>\n",
       "  <tbody>\n",
       "    <tr>\n",
       "      <th>0</th>\n",
       "      <td>0</td>\n",
       "      <td>0</td>\n",
       "      <td>0</td>\n",
       "    </tr>\n",
       "    <tr>\n",
       "      <th>1</th>\n",
       "      <td>0</td>\n",
       "      <td>1</td>\n",
       "      <td>1</td>\n",
       "    </tr>\n",
       "    <tr>\n",
       "      <th>2</th>\n",
       "      <td>1</td>\n",
       "      <td>0</td>\n",
       "      <td>1</td>\n",
       "    </tr>\n",
       "    <tr>\n",
       "      <th>3</th>\n",
       "      <td>1</td>\n",
       "      <td>1</td>\n",
       "      <td>1</td>\n",
       "    </tr>\n",
       "  </tbody>\n",
       "</table>\n",
       "</div>"
      ],
      "text/plain": [
       "   x1  x2  y\n",
       "0   0   0  0\n",
       "1   0   1  1\n",
       "2   1   0  1\n",
       "3   1   1  1"
      ]
     },
     "execution_count": 60,
     "metadata": {},
     "output_type": "execute_result"
    }
   ],
   "source": [
    "OR = {\n",
    "    \"x1\":[0,0,1,1],\n",
    "    \"x2\":[0,1,0,1],\n",
    "    \"y\":[0,1,1,1]\n",
    "}\n",
    "\n",
    "df_OR = pd.DataFrame(OR)\n",
    "\n",
    "df_OR"
   ]
  },
  {
   "cell_type": "code",
   "execution_count": 61,
   "id": "0d1fc55c",
   "metadata": {},
   "outputs": [],
   "source": [
    "def prepare_data(df, target_col=\"y\"):\n",
    "    X=df.drop(target_col,axis=1)\n",
    "    y=df[target_col]\n",
    "    return X,y"
   ]
  },
  {
   "cell_type": "code",
   "execution_count": 62,
   "id": "b7dfc006",
   "metadata": {},
   "outputs": [
    {
     "name": "stdout",
     "output_type": "stream",
     "text": [
      "X with bias: \n",
      "[[ 0.  0. -1.]\n",
      " [ 0.  1. -1.]\n",
      " [ 1.  0. -1.]\n",
      " [ 1.  1. -1.]]\n",
      "predicted value after forward pass \n",
      "[1 0 1 0]\n",
      "updated weights after epoch: 1/10: \n",
      "[ 2.55750849e-05 -5.28410016e-05 -2.52328237e-05]\n",
      "predicted value after forward pass \n",
      "[1 0 1 0]\n",
      "updated weights after epoch: 2/10: \n",
      "[ 2.55750849e-05 -5.28410016e-05 -2.52328237e-05]\n",
      "predicted value after forward pass \n",
      "[1 0 1 0]\n",
      "updated weights after epoch: 3/10: \n",
      "[ 2.55750849e-05 -5.28410016e-05 -2.52328237e-05]\n",
      "predicted value after forward pass \n",
      "[1 0 1 0]\n",
      "updated weights after epoch: 4/10: \n",
      "[ 2.55750849e-05 -5.28410016e-05 -2.52328237e-05]\n",
      "predicted value after forward pass \n",
      "[1 0 1 0]\n",
      "updated weights after epoch: 5/10: \n",
      "[ 2.55750849e-05 -5.28410016e-05 -2.52328237e-05]\n",
      "predicted value after forward pass \n",
      "[1 0 1 0]\n",
      "updated weights after epoch: 6/10: \n",
      "[ 2.55750849e-05 -5.28410016e-05 -2.52328237e-05]\n",
      "predicted value after forward pass \n",
      "[1 0 1 0]\n",
      "updated weights after epoch: 7/10: \n",
      "[ 2.55750849e-05 -5.28410016e-05 -2.52328237e-05]\n",
      "predicted value after forward pass \n",
      "[1 0 1 0]\n",
      "updated weights after epoch: 8/10: \n",
      "[ 2.55750849e-05 -5.28410016e-05 -2.52328237e-05]\n",
      "predicted value after forward pass \n",
      "[1 0 1 0]\n",
      "updated weights after epoch: 9/10: \n",
      "[ 2.55750849e-05 -5.28410016e-05 -2.52328237e-05]\n",
      "predicted value after forward pass \n",
      "[1 0 1 0]\n",
      "updated weights after epoch: 10/10: \n",
      "[ 2.55750849e-05 -5.28410016e-05 -2.52328237e-05]\n"
     ]
    }
   ],
   "source": [
    "X,y =prepare_data(df_OR)\n",
    "ETA=0.1\n",
    "EPOCHS=10\n",
    "model_or = Perceptron(eta=ETA,  epochs=EPOCHS)\n",
    "model_or.fit(X,y)"
   ]
  },
  {
   "cell_type": "code",
   "execution_count": 63,
   "id": "b54f41e6",
   "metadata": {},
   "outputs": [
    {
     "data": {
      "text/plain": [
       "array(1)"
      ]
     },
     "execution_count": 63,
     "metadata": {},
     "output_type": "execute_result"
    }
   ],
   "source": [
    "model_or.predict(X=[[1,1]])"
   ]
  },
  {
   "cell_type": "code",
   "execution_count": null,
   "id": "471c1c52",
   "metadata": {},
   "outputs": [],
   "source": []
  }
 ],
 "metadata": {
  "kernelspec": {
   "display_name": "Python 3 (ipykernel)",
   "language": "python",
   "name": "python3"
  },
  "language_info": {
   "codemirror_mode": {
    "name": "ipython",
    "version": 3
   },
   "file_extension": ".py",
   "mimetype": "text/x-python",
   "name": "python",
   "nbconvert_exporter": "python",
   "pygments_lexer": "ipython3",
   "version": "3.10.9"
  }
 },
 "nbformat": 4,
 "nbformat_minor": 5
}
